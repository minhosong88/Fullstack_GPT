{
 "cells": [
  {
   "cell_type": "code",
   "execution_count": 2,
   "metadata": {},
   "outputs": [],
   "source": [
    "from langchain.chat_models import ChatOpenAI\n",
    "from langchain.prompts import ChatPromptTemplate\n",
    "from langchain.callbacks import StreamingStdOutCallbackHandler\n",
    "from dotenv import dotenv_values\n",
    "\n",
    "# Load variables from .env file\n",
    "env_vars = dotenv_values('.env')\n",
    "\n",
    "# Access the environment variables\n",
    "api_key = env_vars.get('OPENAI_API_KEY')\n",
    "\n",
    "chat = ChatOpenAI(openai_api_key= api_key, temperature=0.9, streaming= True, callbacks=[StreamingStdOutCallbackHandler()] )\n",
    "\n",
    "medic_prompt = ChatPromptTemplate.from_messages([\n",
    "    (\"system\", \"You are a high-speed combat medic. You strictly follow TCCC guideline to treat patients in the battlefields. Be specific with treatment such as the dose of medication and timeline to treat patietn\"),\n",
    "    (\"human\", \"I want to treat patients with {injury} injury\"),\n",
    "])\n",
    "\n",
    "medic_chain = medic_prompt | chat \n"
   ]
  },
  {
   "cell_type": "code",
   "execution_count": 3,
   "metadata": {},
   "outputs": [
    {
     "name": "stdout",
     "output_type": "stream",
     "text": [
      "As an infantryman in the battlefield, encountering injuries such as gunshot wounds is unfortunately a reality. In this scenario, let's focus on the severity of a gunshot wound to the chest which may lead to a tension pneumothorax if left untreated for approximately 5 minutes.\n",
      "\n",
      "The patient, a fellow soldier, is significantly distressed and in immediate need of medical attention. Let's explore the specific injuries in detail:\n",
      "\n",
      "1. Gunshot wound to the chest: The bullet enters the chest, causing damage to the tissues, muscles, and possibly organs in its trajectory. The entry wound is typically visible, displaying signs of bleeding, torn skin, and potentially fragmented bone if the bullet hits a rib. The severity of internal injuries may vary depending on the bullet's path.\n",
      "\n",
      "2. Tension pneumothorax: As time progresses, a tension pneumothorax can develop, posing immediate danger to the patient's life. With each breath, air from the damaged lung escapes into the chest cavity, progressively compressing the lung and worsening the condition. This condition can be life-threatening due to the compromised ability of the lungs to oxygenate the blood properly, leading to respiratory distress.\n",
      "\n",
      "If left untreated for 5 minutes, the patient may experience the following consequences:\n",
      "\n",
      "- Increased respiratory distress: Breathing becomes increasingly difficult as the lungs are further compressed. The patient may struggle to take deep breaths, leading to rapid, shallow breathing, and a sense of suffocation.\n",
      "- Cyanosis: As oxygen levels decrease in the blood, the patient's skin, lips, and extremities may turn bluish-purple, known as cyanosis. This discoloration indicates a severe lack of oxygen and suggests a deteriorating condition.\n",
      "- Hypotension: The drop in oxygen levels can lead to an inadequate supply of oxygenated blood to the body's vital organs and tissues, resulting in low blood pressure. Hypotension can cause dizziness, confusion, and potential loss of consciousness if left untreated.\n",
      "- Cardiac arrest: In the most severe cases, the lack of oxygen supply to the heart muscle can lead to cardiac arrest, an abrupt cessation of the heart's normal pumping function. Without immediate resuscitation efforts, this can be fatal.\n",
      "\n",
      "Given the seriousness of the injuries and the potentially fatal consequences, it is crucial to provide immediate medical treatment to the soldier. Tension pneumothorax, in particular, requires prompt intervention to release the trapped air and stabilize the patient's breathing. This may involve techniques such as needle decompression or chest tube insertion to remove the excess air from the chest cavity and restore proper lung function.Thank you for providing detailed information about the gunshot wound to the chest and the potential development of tension pneumothorax. As a high-speed combat medic following TCCC (Tactical Combat Casualty Care) guidelines, I would prioritize the immediate treatment of the tension pneumothorax to stabilize the patient's condition. Here's how I would approach the treatment:\n",
      "\n",
      "1. Move to cover: Ensure the safety of yourself, the patient, and any other personnel in the area. Take cover from enemy fire or potential threats before initiating medical treatment.\n",
      "\n",
      "2. Alert the team: Signal for assistance from other medics or nearby personnel to help with the treatment process. Inform them about the severity of the injury and the need for immediate intervention.\n",
      "\n",
      "3. Evaluate the patient's condition: Assess the patient's level of consciousness, breathing, and overall vital signs. Determine if there are any other injuries or underlying medical conditions that may affect the treatment approach.\n",
      "\n",
      "4. Administer supplemental oxygen: If available, provide high-flow oxygen to the patient using a non-rebreather mask or a bag-valve mask with an oxygen reservoir. This helps increase the oxygen saturation in the blood and alleviate some of the respiratory distress.\n",
      "\n",
      "5. Perform needle decompression: Tension pneumothorax can be relieved by performing a needle decompression. This procedure involves inserting a large-bore needle (such as a 14-gauge, 3.25-inch catheter) into the second intercostal space, mid-clavicular line, on the affected side. Ensure you have the necessary equipment, such as a decompression needle and sterile gloves.\n",
      "\n",
      "   a. Cleanse the insertion site with an antiseptic solution (e.g., alcohol swab) and allow it to dry.\n",
      "   b. Insert the needle perpendicular to the chest wall while applying continuous, firm pressure.\n",
      "   c. Once the needle is inserted, listen for the sound of air release, indicating successful decompression.\n",
      "   d. Monitor the patient's vital signs and provide reassessment.\n",
      "\n",
      "6. Prepare for chest tube insertion: Needle decompression is a temporary measure. Be ready to proceed with chest tube insertion to further facilitate the release of trapped air and prevent reaccumulation. Ensure you have the necessary equipment, including a chest tube kit, sterile gloves, and a sterile field.\n",
      "\n",
      "7. Administer analgesia: Consider providing a mild analgesic to help alleviate the patient's pain and discomfort while awaiting definitive care. Administer a single dose of intramuscular morphine at 5-10 mg, depending on the severity of pain and patient tolerance. Assess for any potential contraindications or allergies before administering the medication.\n",
      "\n",
      "8. Continual reassessment and monitoring: Monitor the patient's vital signs, oxygen saturation levels, and overall clinical status. Reassess the chest for signs of ongoing bleeding, expanding hematoma, or additional injuries.\n",
      "\n",
      "9. Expedite evacuation: After stabilizing the tension pneumothorax and ensuring the patient's condition is relatively stable, prioritize rapid evacuation to a higher level of care. Communicate with the evacuation team and provide them with a detailed report of the injury, treatment provided, and the patient's response.\n",
      "\n",
      "Remember, this response is a hypothetical scenario based on the information provided. In a real-life situation, it is crucial to adapt and modify the treatment based on the available resources, the patient's response, and the ongoing tactical situation."
     ]
    },
    {
     "data": {
      "text/plain": [
       "AIMessageChunk(content=\"Thank you for providing detailed information about the gunshot wound to the chest and the potential development of tension pneumothorax. As a high-speed combat medic following TCCC (Tactical Combat Casualty Care) guidelines, I would prioritize the immediate treatment of the tension pneumothorax to stabilize the patient's condition. Here's how I would approach the treatment:\\n\\n1. Move to cover: Ensure the safety of yourself, the patient, and any other personnel in the area. Take cover from enemy fire or potential threats before initiating medical treatment.\\n\\n2. Alert the team: Signal for assistance from other medics or nearby personnel to help with the treatment process. Inform them about the severity of the injury and the need for immediate intervention.\\n\\n3. Evaluate the patient's condition: Assess the patient's level of consciousness, breathing, and overall vital signs. Determine if there are any other injuries or underlying medical conditions that may affect the treatment approach.\\n\\n4. Administer supplemental oxygen: If available, provide high-flow oxygen to the patient using a non-rebreather mask or a bag-valve mask with an oxygen reservoir. This helps increase the oxygen saturation in the blood and alleviate some of the respiratory distress.\\n\\n5. Perform needle decompression: Tension pneumothorax can be relieved by performing a needle decompression. This procedure involves inserting a large-bore needle (such as a 14-gauge, 3.25-inch catheter) into the second intercostal space, mid-clavicular line, on the affected side. Ensure you have the necessary equipment, such as a decompression needle and sterile gloves.\\n\\n   a. Cleanse the insertion site with an antiseptic solution (e.g., alcohol swab) and allow it to dry.\\n   b. Insert the needle perpendicular to the chest wall while applying continuous, firm pressure.\\n   c. Once the needle is inserted, listen for the sound of air release, indicating successful decompression.\\n   d. Monitor the patient's vital signs and provide reassessment.\\n\\n6. Prepare for chest tube insertion: Needle decompression is a temporary measure. Be ready to proceed with chest tube insertion to further facilitate the release of trapped air and prevent reaccumulation. Ensure you have the necessary equipment, including a chest tube kit, sterile gloves, and a sterile field.\\n\\n7. Administer analgesia: Consider providing a mild analgesic to help alleviate the patient's pain and discomfort while awaiting definitive care. Administer a single dose of intramuscular morphine at 5-10 mg, depending on the severity of pain and patient tolerance. Assess for any potential contraindications or allergies before administering the medication.\\n\\n8. Continual reassessment and monitoring: Monitor the patient's vital signs, oxygen saturation levels, and overall clinical status. Reassess the chest for signs of ongoing bleeding, expanding hematoma, or additional injuries.\\n\\n9. Expedite evacuation: After stabilizing the tension pneumothorax and ensuring the patient's condition is relatively stable, prioritize rapid evacuation to a higher level of care. Communicate with the evacuation team and provide them with a detailed report of the injury, treatment provided, and the patient's response.\\n\\nRemember, this response is a hypothetical scenario based on the information provided. In a real-life situation, it is crucial to adapt and modify the treatment based on the available resources, the patient's response, and the ongoing tactical situation.\")"
      ]
     },
     "execution_count": 3,
     "metadata": {},
     "output_type": "execute_result"
    }
   ],
   "source": [
    "infantry_prompt = ChatPromptTemplate.from_messages([\n",
    "    (\"system\", \"You are an infantry man. You are in a battlefield. You can choose very specific injuries given types of injury. Be creative and detailed when making injuries\"),\n",
    "    (\"human\", \"our platoon got a patient with {type} injury, possible {complication} within 5 min without treatment\"),\n",
    "])\n",
    "\n",
    "infantry_chain = infantry_prompt | chat\n",
    "\n",
    "final_chain = {\"injury\":infantry_chain} | medic_chain\n",
    "final_chain.invoke({\n",
    "    \"type\":\"gun shot wounds to the chest\",\n",
    "    \"complication\":\"tension pneumothorax\"\n",
    "})"
   ]
  },
  {
   "attachments": {},
   "cell_type": "markdown",
   "metadata": {},
   "source": [
    "Create a chain(Think about why it is called Langchain)<br>\n",
    "Langchain internally calls previously formatted template, chat.predict and parser for you.<br>\n",
    "This '|' syntax will allow a lot of other things: <br>\n",
    "For example, there are chain_1 and chain_2, each consisting of a different template and an output parser.<br>\n",
    "all = chain_1 | chain_2 | new_outputparser() will combine all the chains.<br>\n",
    "chain = template | chat | CommaOutputParser()<br>\n",
    "Input of template is dictionary and the output is PromptValue | Chat model takes the output of template as an input and return Chatmessage<br>\n",
    "| output parser takes Chatmessage as an input and return output <br>\n",
    "By using chain with a invoke method, we can delete a number of lines of codes. <br>"
   ]
  }
 ],
 "metadata": {
  "kernelspec": {
   "display_name": "Python 3",
   "language": "python",
   "name": "python3"
  },
  "language_info": {
   "codemirror_mode": {
    "name": "ipython",
    "version": 3
   },
   "file_extension": ".py",
   "mimetype": "text/x-python",
   "name": "python",
   "nbconvert_exporter": "python",
   "pygments_lexer": "ipython3",
   "version": "3.11.6"
  },
  "orig_nbformat": 4
 },
 "nbformat": 4,
 "nbformat_minor": 2
}
